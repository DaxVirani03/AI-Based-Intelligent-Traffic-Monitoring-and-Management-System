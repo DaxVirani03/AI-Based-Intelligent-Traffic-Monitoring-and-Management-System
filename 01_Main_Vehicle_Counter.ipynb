{
 "cells": [
  {
   "cell_type": "code",
   "execution_count": null,
   "metadata": {
    "id": "qIV0Ti3Xh57q"
   },
   "outputs": [],
   "source": [
    "# This is comment\n",
    "#second line comment\n",
    "import os\n",
    "import cv2\n",
    "import numpy as np\n",
    "from ultralytics import YOLO\n",
    "\n",
    "# --- USER: VERIFY YOUR PROJECT DIRECTORY ---\n",
    "PROJECT_DIR = \"/content/drive/MyDrive/Colab_Projects/AI-Based-Intelligent-Traffic-Monitoring-and-Management-System\"\n",
    "# The name of your input video file, which should be in the 'data' subfolder\n",
    "INPUT_VIDEO_FILENAME = \"input.mp4\"\n",
    "# ---\n",
    "\n",
    "# --- USER: DEFINE YOUR LANE'S ROI HERE ---\n",
    "# Define the coordinates of YOUR lane's polygon\n",
    "ROI_POINTS = np.array([(100, 300), (800, 300), (850, 450), (50, 450)], np.int32)\n",
    "# ---\n",
    "\n",
    "# Construct full paths for video files\n",
    "input_video_path = os.path.join(PROJECT_DIR, 'data', INPUT_VIDEO_FILENAME)\n",
    "output_video_path = os.path.join(PROJECT_DIR, 'output', 'output_vehicle_count.mp4')\n",
    "\n",
    "# Ensure the output directory exists\n",
    "os.makedirs(os.path.join(PROJECT_DIR, 'output'), exist_ok=True)\n",
    "\n",
    "# Change the current working directory to the project folder\n",
    "os.chdir(PROJECT_DIR)\n",
    "\n",
    "# Load the pre-trained YOLOv8 model\n",
    "print(\"Loading YOLOv8 model...\")\n",
    "model = YOLO('yolov8n.pt')\n",
    "\n",
    "# COCO class IDs for vehicles (car, motorcycle, bus, truck)\n",
    "VEHICLE_CLASS_IDS = [2, 3, 5, 7]"
   ]
  },
  {
   "cell_type": "markdown",
   "metadata": {},
   "source": [
    "# Video Processing"
   ]
  },
  {
   "cell_type": "code",
   "execution_count": null,
   "metadata": {
    "id": "pMMAi5naiBt-"
   },
   "outputs": [],
   "source": [
    "# Open the input video file\n",
    "cap = cv2.VideoCapture(input_video_path)\n",
    "if not cap.isOpened():\n",
    "    print(f\"Error: Could not open video at {input_video_path}\")\n",
    "else:\n",
    "    # Get video properties for the output file\n",
    "    frame_width = int(cap.get(cv2.CAP_PROP_FRAME_WIDTH))\n",
    "    frame_height = int(cap.get(cv2.CAP_PROP_FRAME_HEIGHT))\n",
    "    fps = int(cap.get(cv2.CAP_PROP_FPS))\n",
    "\n",
    "    # Define the codec and create VideoWriter object\n",
    "    fourcc = cv2.VideoWriter_fourcc(*'mp4v')\n",
    "    out = cv2.VideoWriter(output_video_path, fourcc, fps, (frame_width, frame_height))\n",
    "\n",
    "    print(f\"Processing video: {INPUT_VIDEO_FILENAME}...\")\n",
    "\n",
    "try:\n",
    "    while True:\n",
    "        success, frame = cap.read()\n",
    "        if not success:\n",
    "            break # End of video\n",
    "\n",
    "        # This check prevents errors if a frame is corrupted\n",
    "        if frame.shape[1] != frame_width or frame.shape[0] != frame_height:\n",
    "            frame = cv2.resize(frame, (frame_width, frame_height))\n",
    "\n",
    "        # Reset counter for each frame\n",
    "        vehicle_count = 0\n",
    "\n",
    "        # Draw the ROI polygon once per frame\n",
    "        cv2.polylines(frame, [ROI_POINTS], isClosed=True, color=(255, 0, 0), thickness=2)\n",
    "\n",
    "        # Run YOLO detection\n",
    "        results = model(frame)\n",
    "\n",
    "        # Process detections\n",
    "        for box in results[0].boxes:\n",
    "            if int(box.cls) in VEHICLE_CLASS_IDS:\n",
    "                x1, y1, x2, y2 = map(int, box.xyxy[0])\n",
    "                center_x, center_y = (x1 + x2) // 2, (y1 + y2) // 2\n",
    "\n",
    "                if cv2.pointPolygonTest(ROI_POINTS, (center_x, center_y), False) >= 0:\n",
    "                    vehicle_count += 1\n",
    "                    cv2.rectangle(frame, (x1, y1), (x2, y2), (0, 255, 0), 2)\n",
    "\n",
    "        # Write the final count and the frame to the output video\n",
    "        cv2.putText(frame, f\"Vehicles in Lane: {vehicle_count}\", (50, 50), cv2.FONT_HERSHEY_SIMPLEX, 1, (0, 0, 255), 2)\n",
    "        out.write(frame)\n",
    "\n",
    "finally:\n",
    "    # This ensures files are closed properly even if an error occurs\n",
    "    print(\"Processing complete. Releasing resources.\")\n",
    "    cap.release()\n",
    "    out.release()"
   ]
  }
 ],
 "metadata": {
  "colab": {
   "authorship_tag": "ABX9TyPJoxAfG4MrncbHemfXyQ/1",
   "provenance": []
  },
  "kernelspec": {
   "display_name": "Python 3",
   "name": "python3"
  },
  "language_info": {
   "name": "python"
  }
 },
 "nbformat": 4,
 "nbformat_minor": 0
}
