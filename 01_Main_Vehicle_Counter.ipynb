{
 "cells": [
  {
   "cell_type": "code",
   "execution_count": null,
   "metadata": {},
   "outputs": [],
   "source": [
    "!pip install ultralytics opencv-python"
   ]
  },
  {
   "cell_type": "markdown",
   "metadata": {},
   "source": [
    "## Run it Before running any of the Below Code"
   ]
  },
  {
   "cell_type": "code",
   "execution_count": 1,
   "metadata": {},
   "outputs": [
    {
     "name": "stdout",
     "output_type": "stream",
     "text": [
      "CUDA Available: True\n",
      "Using device: NVIDIA GeForce GTX 1650\n"
     ]
    }
   ],
   "source": [
    "import torch\n",
    "print(\"CUDA Available:\", torch.cuda.is_available())\n",
    "print(\"Using device:\", torch.cuda.get_device_name(0) if torch.cuda.is_available() else \"CPU\")"
   ]
  },
  {
   "cell_type": "markdown",
   "metadata": {},
   "source": [
    "#### CUDA donwload for 1650 gpu"
   ]
  },
  {
   "cell_type": "code",
   "execution_count": null,
   "metadata": {},
   "outputs": [],
   "source": [
    "pip install torch torchvision torchaudio --index-url https://download.pytorch.org/whl/cu118"
   ]
  },
  {
   "cell_type": "markdown",
   "metadata": {},
   "source": [
    "## Code with 4 different ROI' & Light Logic"
   ]
  },
  {
   "cell_type": "code",
   "execution_count": 13,
   "metadata": {},
   "outputs": [
    {
     "name": "stdout",
     "output_type": "stream",
     "text": [
      "Loading YOLOv8 model...\n",
      "\n",
      "🚦 Lane 0 → GREEN for 10s (Vehicles: 0)\n",
      "Other lanes → RED\n",
      "Ultralytics 8.3.200  Python-3.11.9 torch-2.6.0+cu118 CUDA:0 (NVIDIA GeForce GTX 1650, 4096MiB)\n",
      "Ultralytics 8.3.200  Python-3.11.9 torch-2.6.0+cu118 CUDA:0 (NVIDIA GeForce GTX 1650, 4096MiB)\n",
      "YOLOv8n summary (fused): 72 layers, 3,151,904 parameters, 0 gradients, 8.7 GFLOPs\n",
      "YOLOv8n summary (fused): 72 layers, 3,151,904 parameters, 0 gradients, 8.7 GFLOPs\n",
      "   Lane 0 green → 4 sec left\r"
     ]
    }
   ],
   "source": [
    "# This is comment This is Basic First Code for Initializing Variables \n",
    "#second line comment\n",
    "import os\n",
    "import cv2\n",
    "import numpy as np\n",
    "from ultralytics import YOLO\n",
    "import threading\n",
    "import time\n",
    "\n",
    "# --- USER: VERIFY YOUR PROJECT DIRECTORY ---\n",
    "PROJECT_DIR = \"/content/drive/MyDrive/Colab_Projects/AI-Based-Intelligent-Traffic-Monitoring-and-Management-System\"\n",
    "# The name of your input video file, which should be in the 'data' subfolder\n",
    "INPUT_VIDEO_FILENAME = \"input.mp4\"\n",
    "# ---\n",
    "\n",
    "# --- USER: DEFINE YOUR LANE'S ROI HERE ---\n",
    "# Define the coordinates of YOUR lane's polygon\n",
    "ROI_POINTS = np.array([(150, 100), (600, 100), (600, 400), (150, 400)], np.int32)\n",
    "# --- Construct ROIs for 4 webcams (can customize per webcam) ---\n",
    "ROIS = {\n",
    "    0: ROI_POINTS,\n",
    "    1: ROI_POINTS,\n",
    "    2: ROI_POINTS,\n",
    "    3: ROI_POINTS\n",
    "}\n",
    "\n",
    "# Construct full paths for video files\n",
    "input_video_path = os.path.join(PROJECT_DIR, 'data', INPUT_VIDEO_FILENAME)\n",
    "output_video_path = os.path.join(PROJECT_DIR, 'output', 'output_vehicle_count.mp4')\n",
    "\n",
    "# Ensure the output directory exists\n",
    "os.makedirs(os.path.join(PROJECT_DIR, 'output'), exist_ok=True)\n",
    "\n",
    "# Change the current working directory to the project folder\n",
    "os.chdir(PROJECT_DIR)\n",
    "\n",
    "# Load the pre-trained YOLOv8 model\n",
    "print(\"Loading YOLOv8 model...\")\n",
    "model = YOLO(\"yolov8n.pt\").to(\"cuda\")\n",
    "\n",
    "# COCO class IDs for vehicles (car, motorcycle, bus, truck)\n",
    "VEHICLE_CLASS_IDS = [2, 3, 5, 7]\n",
    "\n",
    "# --- Shared dictionary for real-time counts ---\n",
    "lane_counts = {0: 0, 1: 0, 2: 0, 3: 0}  # each webcam updates its count\n",
    "stop_program = False  # global flag to stop all threads\n",
    "\n",
    "# --- Traffic light parameters ---\n",
    "min_green = 10\n",
    "max_green = 30\n",
    "max_count = 20\n",
    "\n",
    "# --- Webcam processing function ---\n",
    "def process_webcam(cam_index, window_name):\n",
    "    global stop_program\n",
    "    cap = cv2.VideoCapture(cam_index, cv2.CAP_DSHOW)\n",
    "\n",
    "    if not cap.isOpened():\n",
    "        print(f\"❌ Error: Could not open webcam {cam_index}\")\n",
    "        return\n",
    "\n",
    "    roi_polygon = ROIS[cam_index]\n",
    "\n",
    "    while not stop_program:\n",
    "        success, frame = cap.read()\n",
    "        if not success:\n",
    "            break\n",
    "\n",
    "        vehicle_count = 0\n",
    "        cv2.polylines(frame, [roi_polygon], isClosed=True, color=(255, 0, 0), thickness=2)\n",
    "\n",
    "        results = model.predict(frame, device=0, verbose=False)\n",
    "        for box in results[0].boxes:\n",
    "            cls_id = int(box.cls)\n",
    "            conf = float(box.conf[0])\n",
    "            if cls_id in VEHICLE_CLASS_IDS and conf > 0.5:\n",
    "                x1, y1, x2, y2 = map(int, box.xyxy[0])\n",
    "                center_x, center_y = (x1 + x2) // 2, (y1 + y2) // 2\n",
    "                if cv2.pointPolygonTest(roi_polygon, (center_x, center_y), False) >= 0:\n",
    "                    vehicle_count += 1\n",
    "                    cv2.rectangle(frame, (x1, y1), (x2, y2), (0, 255, 0), 2)\n",
    "\n",
    "        # update shared dictionary\n",
    "        lane_counts[cam_index] = vehicle_count\n",
    "\n",
    "        cv2.putText(frame, f\"Vehicles: {vehicle_count}\", (20, 40),\n",
    "                    cv2.FONT_HERSHEY_SIMPLEX, 1, (0, 0, 255), 2)\n",
    "\n",
    "        cv2.imshow(window_name, frame)\n",
    "        if cv2.waitKey(1) & 0xFF == ord('q'):\n",
    "            stop_program = True  # set flag to stop all threads\n",
    "            break\n",
    "\n",
    "    cap.release()\n",
    "    cv2.destroyWindow(window_name)\n",
    "\n",
    "# --- Dynamic Traffic Light Controller ---\n",
    "def traffic_controller():\n",
    "    global stop_program\n",
    "    while not stop_program:\n",
    "        for lane_id in range(4):\n",
    "            if stop_program:\n",
    "                break\n",
    "            count = lane_counts[lane_id]\n",
    "            green_time = int(min_green + (count / max_count) * (max_green - min_green))\n",
    "            green_time = max(min_green, min(green_time, max_green))\n",
    "\n",
    "            print(f\"\\n🚦 Lane {lane_id} → GREEN for {green_time}s (Vehicles: {count})\")\n",
    "            print(\"Other lanes → RED\")\n",
    "\n",
    "            for sec in range(green_time, 0, -1):\n",
    "                if stop_program:\n",
    "                    break\n",
    "                print(f\"   Lane {lane_id} green → {sec} sec left\", end=\"\\r\")\n",
    "                time.sleep(1)\n",
    "\n",
    "# --- Run 4 webcams + traffic controller ---\n",
    "threads = []\n",
    "for i in range(4):\n",
    "    t = threading.Thread(target=process_webcam, args=(i, f\"Webcam {i}\"))\n",
    "    threads.append(t)\n",
    "    t.start()\n",
    "\n",
    "controller_thread = threading.Thread(target=traffic_controller, daemon=True)\n",
    "controller_thread.start()\n",
    "\n",
    "for t in threads:\n",
    "    t.join()\n",
    "\n",
    "cv2.destroyAllWindows()\n"
   ]
  },
  {
   "cell_type": "code",
   "execution_count": null,
   "metadata": {},
   "outputs": [],
   "source": []
  }
 ],
 "metadata": {
  "colab": {
   "authorship_tag": "ABX9TyPJoxAfG4MrncbHemfXyQ/1",
   "provenance": []
  },
  "kernelspec": {
   "display_name": "Python 3",
   "name": "python3"
  },
  "language_info": {
   "codemirror_mode": {
    "name": "ipython",
    "version": 3
   },
   "file_extension": ".py",
   "mimetype": "text/x-python",
   "name": "python",
   "nbconvert_exporter": "python",
   "pygments_lexer": "ipython3",
   "version": "3.11.9"
  }
 },
 "nbformat": 4,
 "nbformat_minor": 0
}
